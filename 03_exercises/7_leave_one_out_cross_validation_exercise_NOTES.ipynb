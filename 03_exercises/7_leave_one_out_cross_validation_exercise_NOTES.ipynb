{
 "cells": [
  {
   "cell_type": "markdown",
   "id": "2ee216ac-cbc1-4576-a6c2-74e6ae2ff2c9",
   "metadata": {},
   "source": [
    "# 6.4: Resampling Exercises"
   ]
  },
  {
   "cell_type": "markdown",
   "id": "451fa372-7eb2-43e8-bbf5-429bc446f0a0",
   "metadata": {},
   "source": [
    "## Getting Started\n",
    "\n",
    "### Import Libraries \n",
    "\n",
    "We import our standard libraries and specific objects/libraries at the top level of our notebook."
   ]
  },
  {
   "cell_type": "code",
   "execution_count": 55,
   "id": "6edbc31d-be7c-4dd3-bb07-a9f681754433",
   "metadata": {},
   "outputs": [],
   "source": [
    "# Load our previous libraries and objects\n",
    "import numpy as np\n",
    "import statsmodels.api as sm\n",
    "from ISLP import load_data\n",
    "from ISLP.models import ModelSpec as MS\n",
    "from sklearn.model_selection import train_test_split\n",
    "from ISLP.models import (ModelSpec as MS, summarize)\n",
    "\n",
    "# Import new libraries and objects\n",
    "from sklearn.model_selection import cross_validate\n",
    "from ISLP.models import sklearn_sm\n",
    "\n",
    "import warnings \n",
    "warnings.filterwarnings('ignore') # mute warning messages"
   ]
  },
  {
   "cell_type": "markdown",
   "id": "53f01389-fd9e-4824-8601-44ce42f58f98",
   "metadata": {},
   "source": [
    "## The Validation Set Approach"
   ]
  },
  {
   "cell_type": "markdown",
   "id": "7e417696-f8c8-4ef5-8404-e6838a907d47",
   "metadata": {},
   "source": [
    "We explore the use of the validation set approach in order to estimate the test error rates that result from fitting various linear models on the `Auto` data set.\n",
    "\n",
    "We use the function `train_test_split()` to split the data into training and validation sets. As there are 392 observations, we split into two equal sets of size 196 using the argument `test_size=196`. We want to set a random seed (`random_state=0`) so that the random results can be reproduced again."
   ]
  },
  {
   "cell_type": "code",
   "execution_count": 56,
   "id": "0419abe2-c733-4124-b202-45f6a8bf953e",
   "metadata": {},
   "outputs": [],
   "source": [
    "Auto = load_data('Auto')\n",
    "Auto_train, Auto_valid = train_test_split(Auto,\n",
    "                                         test_size=0.50, # split in two - 50% for TRAIN and 50% for VALID/TEST\n",
    "                                         random_state=0) # random seed\n",
    "\n",
    "# sample size 392 records\n",
    "# parameter: test_size \n",
    "#     - if INTEGER (test_size = 100)\n",
    "#             - auto_train will have 292 records  \n",
    "#             - auto_valid will have 100 records \n",
    "#     - if FLOAT (test_size = 0.2)\n",
    "#             - auto_train will have 80% records  \n",
    "#             - auto_valid will have 20% records "
   ]
  },
  {
   "cell_type": "code",
   "execution_count": 57,
   "id": "ff272e0d",
   "metadata": {},
   "outputs": [
    {
     "name": "stdout",
     "output_type": "stream",
     "text": [
      "      mpg  cylinders  displacement  horsepower  weight  acceleration  year  \\\n",
      "0    18.0          8         307.0         130    3504          12.0    70   \n",
      "1    15.0          8         350.0         165    3693          11.5    70   \n",
      "2    18.0          8         318.0         150    3436          11.0    70   \n",
      "3    16.0          8         304.0         150    3433          12.0    70   \n",
      "4    17.0          8         302.0         140    3449          10.5    70   \n",
      "..    ...        ...           ...         ...     ...           ...   ...   \n",
      "387  27.0          4         140.0          86    2790          15.6    82   \n",
      "388  44.0          4          97.0          52    2130          24.6    82   \n",
      "389  32.0          4         135.0          84    2295          11.6    82   \n",
      "390  28.0          4         120.0          79    2625          18.6    82   \n",
      "391  31.0          4         119.0          82    2720          19.4    82   \n",
      "\n",
      "     origin                       name  \n",
      "0         1  chevrolet chevelle malibu  \n",
      "1         1          buick skylark 320  \n",
      "2         1         plymouth satellite  \n",
      "3         1              amc rebel sst  \n",
      "4         1                ford torino  \n",
      "..      ...                        ...  \n",
      "387       1            ford mustang gl  \n",
      "388       2                  vw pickup  \n",
      "389       1              dodge rampage  \n",
      "390       1                ford ranger  \n",
      "391       1                 chevy s-10  \n",
      "\n",
      "[392 rows x 9 columns]\n"
     ]
    }
   ],
   "source": [
    "print (Auto)\n"
   ]
  },
  {
   "cell_type": "code",
   "execution_count": 58,
   "id": "db8015a2",
   "metadata": {},
   "outputs": [
    {
     "name": "stdout",
     "output_type": "stream",
     "text": [
      "      mpg  cylinders  displacement  horsepower  weight  acceleration  year  \\\n",
      "144  28.0          4          90.0          75    2125          14.5    74   \n",
      "280  22.3          4         140.0          88    2890          17.3    79   \n",
      "68   12.0          8         350.0         160    4456          13.5    72   \n",
      "372  38.0          4         105.0          63    2125          14.7    82   \n",
      "328  33.8          4          97.0          67    2145          18.0    80   \n",
      "..    ...        ...           ...         ...     ...           ...   ...   \n",
      "268  21.1          4         134.0          95    2515          14.8    78   \n",
      "272  20.3          5         131.0         103    2830          15.9    78   \n",
      "223  17.5          6         250.0         110    3520          16.4    77   \n",
      "35   19.0          6         250.0          88    3302          15.5    71   \n",
      "259  18.1          6         258.0         120    3410          15.1    78   \n",
      "\n",
      "     origin                        name  \n",
      "144       1                  dodge colt  \n",
      "280       1             ford fairmont 4  \n",
      "68        1  oldsmobile delta 88 royale  \n",
      "372       1      plymouth horizon miser  \n",
      "328       3                   subaru dl  \n",
      "..      ...                         ...  \n",
      "268       3   toyota celica gt liftback  \n",
      "272       2                   audi 5000  \n",
      "223       1          chevrolet concours  \n",
      "35        1             ford torino 500  \n",
      "259       1             amc concord d/l  \n",
      "\n",
      "[196 rows x 9 columns]\n"
     ]
    }
   ],
   "source": [
    "print (Auto_valid)"
   ]
  },
  {
   "cell_type": "code",
   "execution_count": 59,
   "id": "a6f499db",
   "metadata": {},
   "outputs": [
    {
     "name": "stdout",
     "output_type": "stream",
     "text": [
      "      mpg  cylinders  displacement  horsepower  weight  acceleration  year  \\\n",
      "249  20.2          8         302.0         139    3570          12.8    78   \n",
      "24   21.0          6         199.0          90    2648          15.0    70   \n",
      "261  17.7          6         231.0         165    3445          13.4    78   \n",
      "44   18.0          6         258.0         110    2962          13.5    71   \n",
      "225  19.0          6         225.0         100    3630          17.7    77   \n",
      "..    ...        ...           ...         ...     ...           ...   ...   \n",
      "323  44.3          4          90.0          48    2085          21.7    80   \n",
      "192  22.5          6         232.0          90    3085          17.6    76   \n",
      "117  24.0          4         116.0          75    2158          15.5    73   \n",
      "47   18.0          6         250.0          88    3139          14.5    71   \n",
      "172  18.0          6         171.0          97    2984          14.5    75   \n",
      "\n",
      "     origin                             name  \n",
      "249       1             mercury monarch ghia  \n",
      "24        1                      amc gremlin  \n",
      "261       1  buick regal sport coupe (turbo)  \n",
      "44        1       amc hornet sportabout (sw)  \n",
      "225       1           plymouth volare custom  \n",
      "..      ...                              ...  \n",
      "323       2             vw rabbit c (diesel)  \n",
      "192       1                       amc hornet  \n",
      "117       2                       opel manta  \n",
      "47        1                     ford mustang  \n",
      "172       1                       ford pinto  \n",
      "\n",
      "[196 rows x 9 columns]\n"
     ]
    }
   ],
   "source": [
    "print (Auto_train)"
   ]
  },
  {
   "cell_type": "markdown",
   "id": "c6667129-56af-4d42-9416-2b51e60e3f0c",
   "metadata": {},
   "source": [
    "Now we can fit a linear regression using only the observations corresponding to the training set `Auto_train`."
   ]
  },
  {
   "cell_type": "code",
   "execution_count": 60,
   "id": "1c531b5b-803b-42ed-88f0-e20242e0ad85",
   "metadata": {},
   "outputs": [
    {
     "data": {
      "text/html": [
       "<div>\n",
       "<style scoped>\n",
       "    .dataframe tbody tr th:only-of-type {\n",
       "        vertical-align: middle;\n",
       "    }\n",
       "\n",
       "    .dataframe tbody tr th {\n",
       "        vertical-align: top;\n",
       "    }\n",
       "\n",
       "    .dataframe thead th {\n",
       "        text-align: right;\n",
       "    }\n",
       "</style>\n",
       "<table border=\"1\" class=\"dataframe\">\n",
       "  <thead>\n",
       "    <tr style=\"text-align: right;\">\n",
       "      <th></th>\n",
       "      <th>coef</th>\n",
       "      <th>std err</th>\n",
       "      <th>t</th>\n",
       "      <th>P&gt;|t|</th>\n",
       "    </tr>\n",
       "  </thead>\n",
       "  <tbody>\n",
       "    <tr>\n",
       "      <th>intercept</th>\n",
       "      <td>39.9055</td>\n",
       "      <td>1.009</td>\n",
       "      <td>39.537</td>\n",
       "      <td>0.0</td>\n",
       "    </tr>\n",
       "    <tr>\n",
       "      <th>horsepower</th>\n",
       "      <td>-0.1563</td>\n",
       "      <td>0.009</td>\n",
       "      <td>-17.333</td>\n",
       "      <td>0.0</td>\n",
       "    </tr>\n",
       "  </tbody>\n",
       "</table>\n",
       "</div>"
      ],
      "text/plain": [
       "               coef  std err       t  P>|t|\n",
       "intercept   39.9055    1.009  39.537    0.0\n",
       "horsepower  -0.1563    0.009 -17.333    0.0"
      ]
     },
     "execution_count": 60,
     "metadata": {},
     "output_type": "execute_result"
    }
   ],
   "source": [
    "hp_mm = MS(['horsepower'])\n",
    "\n",
    "X_train = hp_mm.fit_transform(Auto_train)\n",
    "y_train = Auto_train['mpg']\n",
    "\n",
    "model = sm.OLS(y_train, X_train)\n",
    "\n",
    "results = model.fit()\n",
    "\n",
    "summarize (results)\n"
   ]
  },
  {
   "cell_type": "markdown",
   "id": "af93fbe6-df41-4f9f-878a-8b58b38fd0a0",
   "metadata": {},
   "source": [
    "We now use the `predict()` method of results evaluated on the model matrix for this model created using the validation data set. We also calculate the validation MSE of our model."
   ]
  },
  {
   "cell_type": "code",
   "execution_count": 61,
   "id": "dda5e219-dcd0-4569-a6b3-02954d68d2fc",
   "metadata": {},
   "outputs": [
    {
     "name": "stdout",
     "output_type": "stream",
     "text": [
      "MSE (Mean Squareed Error): 23.616617069669882\n"
     ]
    }
   ],
   "source": [
    "X_valid = hp_mm.transform(Auto_valid)\n",
    "y_valid = Auto_valid['mpg']\n",
    "\n",
    "valid_pred = results.predict(X_valid)\n",
    "\n",
    "# y_valid => real results used to validate the model\n",
    "# valid_pred => prediction generated by the model, using the validation set\n",
    "# the mean^2 of the (real results - predictied results) shows how close the prediction is from the reality\n",
    "\n",
    "print (\"MSE (Mean Squareed Error):\" , np.mean((y_valid - valid_pred)**2) )\n",
    "\n",
    "# the result is 23.61 ... this is the MSE\n",
    "#    MSE measures the average squared error between actual and predicted values.\n",
    "#    MSE (Mean Squareed Error) is how far the prediction is from the reality. \n",
    "#    The perfect model will have MSE = 0\n",
    "#    Since there are no standard, you have to generate models and compare them using MSE.\n",
    "#\n"
   ]
  },
  {
   "cell_type": "markdown",
   "id": "252d8d71-405e-4b5f-92ea-365e44b2a8c1",
   "metadata": {},
   "source": [
    "So our estimated test MSE for the linear regression is 23.62.\n",
    "\n",
    "**What would happen if we used a different set of observations for our training set? Repeat the above\n",
    "process using a different seed (i.e. set.seed(2)) and report the differences.**"
   ]
  },
  {
   "cell_type": "markdown",
   "id": "c467449e-0c6d-413d-8f2c-97dccfbc5e5d",
   "metadata": {},
   "source": [
    "## Leave-One-Out Cross-Validation"
   ]
  },
  {
   "cell_type": "markdown",
   "id": "dfa9709e-556e-4c23-81c8-3b75dd28c9a7",
   "metadata": {},
   "source": [
    "The simplest way to cross-validate in Python is to use `sklearn`. The `ISLP` package provides a wrapper (`sklearn_sm()`), that allows us to easily use the cross-validation tools of `sklearn` with models fit by `statsmodels`.\n",
    "\n",
    "\n",
    "- LOOCV\n",
    "- Advantage:\n",
    "    - it is useful with small data sets\n",
    "    - outliers/data-noise have low impact using this model\n",
    "    - create a model, test it with 1 record then repeat the process 'N' number of times \n",
    "- Drawback\n",
    "    - with large data sets this method is very time consuming and inefficinet to generate"
   ]
  },
  {
   "cell_type": "code",
   "execution_count": 64,
   "id": "3531bbe6",
   "metadata": {},
   "outputs": [
    {
     "name": "stdout",
     "output_type": "stream",
     "text": [
      "(392, 9)\n",
      "392\n"
     ]
    }
   ],
   "source": [
    "print (Auto.shape)\n",
    "\n",
    "print (Auto.shape[0])"
   ]
  },
  {
   "cell_type": "code",
   "execution_count": 62,
   "id": "22117be0-29ae-4ccb-9b93-c5c538e90528",
   "metadata": {},
   "outputs": [
    {
     "name": "stdout",
     "output_type": "stream",
     "text": [
      "[2.02001002e+00 1.25092412e+00 3.06805164e+00 6.79901984e-02\n",
      " 7.08255629e-01 4.13566745e+01 8.13755358e+01 6.71494767e+01\n",
      " 9.70498847e+01 2.63430368e+01 3.67428697e+00 4.70741691e-01\n",
      " 1.60507789e+00 9.70498847e+01 8.89557151e-01 8.69418110e+00\n",
      " 4.41228965e+01 3.06562225e+01 9.16549732e-01 4.53185378e+01\n",
      " 1.45705281e+00 3.00983554e+00 3.54617605e-03 1.52964088e+01\n",
      " 2.25022208e+01 1.67905446e+01 2.76735351e+00 1.85354648e+01\n",
      " 2.29957474e-01 9.16549732e-01 5.18379999e+00 3.54617605e-03\n",
      " 2.66745510e+01 5.44791120e+01 5.14078324e+01 4.99405256e+01\n",
      " 3.80360006e+01 1.19884585e-02 2.91033003e+00 3.23104363e+00\n",
      " 5.16691118e+00 2.32487332e-01 1.06678908e-02 4.82615264e-01\n",
      " 2.10211114e+01 4.35585197e+01 2.66745510e+01 6.51231162e+01\n",
      " 1.13690418e+01 5.18379999e+00 1.25085727e+00 4.27873211e+00\n",
      " 1.77161819e+00 3.58044876e+01 1.21519855e+01 8.41044041e+00\n",
      " 8.89557151e-01 5.36657259e+00 7.17595842e+01 3.30230842e+01\n",
      " 2.89239650e+01 8.09034686e-01 2.91033003e+00 1.60507789e+00\n",
      " 3.23104363e+00 5.55648116e-01 1.58374562e+01 6.18633936e+00\n",
      " 7.30069293e+00 9.62066868e+00 3.18079355e+01 1.60507789e+00\n",
      " 4.14699861e+01 2.36253376e+01 5.16691118e+00 1.82205869e+01\n",
      " 3.55599555e+01 2.72424889e+01 9.35761228e+00 1.91401940e+01\n",
      " 6.72450828e+00 2.65440672e+00 4.81922115e-01 9.16549732e-01\n",
      " 4.82615264e-01 5.16691118e+00 1.65673457e+01 1.87496691e+01\n",
      " 1.60507789e+00 1.14041800e+01 1.07534901e+01 4.04602925e+00\n",
      " 5.16691118e+00 5.14127073e+01 6.07551884e+01 4.82615264e-01\n",
      " 2.89000924e+01 6.67900464e+01 3.80360006e+01 6.51231162e+01\n",
      " 3.78643546e+00 4.53185378e+01 2.80008847e+01 2.52995804e+00\n",
      " 1.06678908e-02 2.32487332e-01 3.80360006e+01 3.67700670e+01\n",
      " 5.78250435e+01 9.65326195e+00 6.00999134e+01 5.69004321e+01\n",
      " 4.20960109e+00 7.34161330e-02 4.24141077e+00 1.62504118e+02\n",
      " 1.04124952e+01 1.69263872e+01 3.12256930e+01 1.06661158e+01\n",
      " 1.60507789e+00 2.04714617e+00 4.63627225e-01 2.81308530e-01\n",
      " 2.45422744e+01 2.66745510e+01 8.41826427e+01 2.71568614e+00\n",
      " 1.72393986e+00 5.45824770e+00 9.67273723e+00 6.67900464e+01\n",
      " 4.34294154e+01 2.89000924e+01 3.40894184e+00 1.07534901e+01\n",
      " 5.16691118e+00 1.48674828e+01 5.16691118e+00 4.71985461e+00\n",
      " 1.14045570e+01 2.65723179e+00 5.37714836e-01 2.89872607e+00\n",
      " 9.58490755e-03 1.69263872e+01 4.43538684e+00 3.92603313e-01\n",
      " 5.56174397e-01 2.71568614e+00 3.54826220e+01 2.89000924e+01\n",
      " 1.85793766e+02 1.85793766e+02 8.56678574e+00 4.24141077e+00\n",
      " 6.79901984e-02 6.70768171e+00 3.12200353e+01 5.44791120e+01\n",
      " 5.76492515e+01 4.84338370e+01 2.48707630e+00 6.65463189e+00\n",
      " 4.35279867e+01 8.21133366e-01 1.48042183e+01 1.73234837e+01\n",
      " 2.15428333e+01 6.16014660e-01 1.40301443e+01 3.92603313e-01\n",
      " 4.41228965e+01 1.29490738e-02 4.55556484e+01 3.78643546e+00\n",
      " 9.33148243e+00 6.11852866e+00 1.04014510e+01 2.07408852e+00\n",
      " 2.70256448e+00 4.65694071e+00 1.72487801e-01 2.16539700e+00\n",
      " 2.74918795e-02 1.15058589e-01 6.79901984e-02 3.03694219e+01\n",
      " 2.11072545e+00 4.65249596e+00 1.86499577e+00 9.99513766e+00\n",
      " 1.04928647e+01 7.55152999e+00 3.60116535e+01 1.29490738e-02\n",
      " 2.07408852e+00 1.73234837e+01 9.33213791e+01 1.66755705e+01\n",
      " 5.56635197e+01 5.99987945e-01 9.78228164e+00 9.58490755e-03\n",
      " 4.32695051e+00 1.47882454e+01 1.07534901e+01 4.99405256e+01\n",
      " 1.51995441e+01 2.03208885e+01 2.53881491e+01 1.65673457e+01\n",
      " 4.14699861e+01 1.07534901e+01 5.33042511e+00 7.29756797e+00\n",
      " 2.75846571e+01 5.17186811e-01 2.14795069e+01 2.06180738e-01\n",
      " 3.12200353e+01 2.42350354e+00 1.96456368e+01 2.58692664e+01\n",
      " 8.23394721e+00 2.66745510e+01 3.57935557e+01 2.05425417e+01\n",
      " 5.86547892e+00 3.18124590e+01 1.75981847e-01 1.90777485e+00\n",
      " 2.40313535e+00 4.43538684e+00 1.51190554e-01 2.61303673e-01\n",
      " 4.47244402e+01 4.13364701e-01 8.33410057e+00 6.92684164e+00\n",
      " 1.15721954e+00 1.15721954e+00 1.17243677e+02 4.37670739e+01\n",
      " 1.16629732e+00 1.11553234e+02 3.21334196e+01 7.18196254e+00\n",
      " 2.46435792e+00 4.90518618e+00 1.74123514e+01 1.98261758e+01\n",
      " 4.01877223e+01 8.99439615e-01 1.34018435e+01 4.03012186e+01\n",
      " 7.66863328e+00 3.29183245e+01 1.58667760e+01 8.42803414e+00\n",
      " 4.67977341e+00 1.47657800e+01 1.10336292e-02 1.15058589e-01\n",
      " 6.42346961e-01 6.58606332e+00 6.66627625e+00 7.91798088e+00\n",
      " 1.48304437e+01 2.64318792e-02 7.44090531e+00 5.28305235e-01\n",
      " 1.14684171e+01 1.03414523e+01 3.39377102e-02 7.58123595e+00\n",
      " 7.74842230e+00 8.94190790e-02 8.09384884e-02 4.54365642e+01\n",
      " 1.41140526e+01 3.07579754e+01 3.91284380e+00 5.88043263e+00\n",
      " 3.92436810e+00 2.75808267e+00 1.83702289e-01 2.07387025e+00\n",
      " 4.12916020e+00 1.01722577e+00 5.08353300e+00 1.01467782e+01\n",
      " 1.97789373e+01 7.09285156e+01 8.47276098e-03 5.71702729e+00\n",
      " 7.86198816e+00 2.35859722e+00 3.36788510e+00 2.84924847e+01\n",
      " 3.18008270e+01 4.55923166e+00 6.88003729e+01 7.17149316e+00\n",
      " 4.94993583e+01 2.53016852e+01 6.07286850e+01 1.85344168e+02\n",
      " 5.89921650e+01 1.04207991e+01 5.72092847e+01 5.18379999e+00\n",
      " 1.26415094e-01 2.05638892e+00 4.42118654e+01 4.49064563e+01\n",
      " 1.66631623e+01 1.03395519e+01 1.34992151e+02 1.69676219e+01\n",
      " 2.89448955e+02 2.06974399e+01 1.25051574e+02 1.44905192e+02\n",
      " 1.23884653e+02 5.00546480e+01 4.13364701e-01 2.34577604e+02\n",
      " 1.99088405e+01 1.23537151e-01 1.86386212e+02 2.04808540e-01\n",
      " 8.06690157e+01 1.47899420e+01 2.75430770e-01 5.95305638e-03\n",
      " 1.49726751e-01 8.63932788e-01 1.11156438e+01 7.00853046e+01\n",
      " 8.49303469e+01 2.17401579e+01 8.72867547e+00 5.42082969e+01\n",
      " 5.76616427e+01 2.42205203e+01 2.24153948e+01 2.25523558e+01\n",
      " 5.07271492e-02 2.26998788e+01 3.16437445e+01 1.86623193e+01\n",
      " 7.69355372e+01 1.12801915e+01 6.31334897e-01 7.68002445e+00\n",
      " 1.43235862e+01 1.03365290e+01 3.00647280e-02 1.05372851e+01\n",
      " 3.43774311e+01 8.00620412e+01 3.84314632e+00 9.16549732e-01\n",
      " 6.36574958e+01 2.02081766e+01 5.43229349e+00 1.62275765e+00\n",
      " 2.01113213e+00 6.04809802e+01 6.13959910e+01 3.26284998e+00\n",
      " 6.48476825e+01 5.10675623e+01 9.96926676e+01 6.29583618e+01\n",
      " 2.63878500e+01 7.53932748e+01 7.03805538e+00 7.53932748e+01\n",
      " 5.92141501e+00 1.32661105e+02 3.45169047e-01 6.65300161e-02\n",
      " 5.23682368e+01 8.74921443e+01 1.62275765e+00 4.10622168e-01\n",
      " 1.52827762e+02 2.85218299e+01 2.87124380e-01 1.61698064e+01]\n",
      "MSE (Mean Squareed Error):  24.23151351792924\n"
     ]
    }
   ],
   "source": [
    "hp_model = sklearn_sm(sm.OLS, MS(['horsepower']))\n",
    "\n",
    "X = Auto.drop(columns=['mpg'])\n",
    "Y = Auto['mpg']\n",
    "\n",
    "cv_results = cross_validate(hp_model,\n",
    "                            X,\n",
    "                            Y,\n",
    "                            cv=Auto.shape[0]) #K-fold where k=n --> LOOCV\n",
    "\n",
    "\n",
    "# score of all executions of the model \n",
    "print (cv_results['test_score'])\n",
    "\n",
    "cv_err = np.mean(cv_results['test_score'])\n",
    "print (\"MSE (Mean Squareed Error): \",cv_err)\n",
    "\n"
   ]
  },
  {
   "cell_type": "markdown",
   "id": "45839a95-4991-43d4-bc15-a529d0121252",
   "metadata": {},
   "source": [
    "The arguments to `cross_validate()` are: an object with the appropriate `fit()`, `predict()`, and `score()` methods, an array of features `X` and a response `Y`. We also included an additional argument `cv` to `cross_validate()`; specifying an integer \n",
    "$K$ results in $K$-fold cross-validation.\n",
    "\n",
    "We can repeat this procedure for increasingly complex polynomial fits. To automate the process, we again use a for loop which iteratively fits polynomial regressions of degree 1 to 5, computes the associated cross-validation error, and stores it in the $i$th element of the vector `cv_error`."
   ]
  },
  {
   "cell_type": "markdown",
   "id": "82ef2032-b30d-40e7-8e43-ede2f12c5fbd",
   "metadata": {},
   "source": [
    "**Write a for loop that fits the Auto data using polynomials up to degree 5. Compute the LOOCV\n",
    "test error rate for each of them. Which degree polynomial fits the data the best according to\n",
    "the test error rate and the bias-variance trade-off?**\n",
    "\n",
    "Tip: use `np.power.outer` function to construct `X`"
   ]
  },
  {
   "cell_type": "code",
   "execution_count": 77,
   "id": "752e078f-f2a6-40c9-9597-e45a0698b8d1",
   "metadata": {},
   "outputs": [
    {
     "data": {
      "text/plain": [
       "array([24.23151352, 19.24821312, 19.33498406, 19.4244303 , 19.03322606])"
      ]
     },
     "execution_count": 77,
     "metadata": {},
     "output_type": "execute_result"
    }
   ],
   "source": [
    "## Your codes\n",
    "# mpg  cylinders  displacement  horsepower  weight  acceleration  year\n",
    "cv_error = np.zeros (5)\n",
    "\n",
    "H = np.array (Auto['horsepower'])\n",
    "M = sklearn_sm(sm.OLS)\n",
    "Y = Auto['mpg']\n",
    "\n",
    "# i = 0,1,2,3,4\n",
    "# d = 1,2,3,4,5\n",
    "for i,d in enumerate (range (1,6)):\n",
    "    \n",
    "    X = np.power.outer (H , np.arange(d+1))\n",
    "    \n",
    "    M_CV = cross_validate(M,\n",
    "                          X,\n",
    "                          Y,\n",
    "                          cv=Auto.shape[0])\n",
    "    \n",
    "    cv_error[i] = np.mean (M_CV['test_score'])\n",
    "\n",
    "cv_error\n",
    "\n",
    "# array([24.23151352, 19.24821312, 19.33498406, 19.4244303 , 19.03322606])\n",
    "# d = 1 ==> 24.23151352\n",
    "# d = 2 ==> 19.24821312\n",
    "# d = 3 ==> 19.33498406\n",
    "# d = 4 ==> 19.4244303\n",
    "# d = 5 ==> 19.03322606\n",
    "#\n",
    "# the best model is d=5 because it has the lowest score.\n",
    "# ... but ... the best choice is d=2 ... it is the second-best choice, but the model is much simpler.\n",
    "# "
   ]
  },
  {
   "cell_type": "markdown",
   "id": "278c6959-9713-480a-bbe7-b58502a9d49f",
   "metadata": {},
   "source": [
    "*These exercises were adapted from :* James, Gareth, et al. An Introduction to Statistical Learning: with Applications in Python, Springer, 2023."
   ]
  },
  {
   "cell_type": "markdown",
   "id": "40d9ee1b",
   "metadata": {},
   "source": [
    "# Validation Set Appoach #\n",
    "\n",
    "- randomly divide the data set into : training set and validation set\n",
    "- drawbacks:\n",
    "    - this is not useful for small data sets\n",
    "    - when randomly selecting the sets for TRAINING and VAIDATION it can produce very different models (speccialy in imbalanced data sets)\n",
    "\n",
    "- "
   ]
  }
 ],
 "metadata": {
  "kernelspec": {
   "display_name": "dsi_participant",
   "language": "python",
   "name": "python3"
  },
  "language_info": {
   "codemirror_mode": {
    "name": "ipython",
    "version": 3
   },
   "file_extension": ".py",
   "mimetype": "text/x-python",
   "name": "python",
   "nbconvert_exporter": "python",
   "pygments_lexer": "ipython3",
   "version": "3.9.15"
  }
 },
 "nbformat": 4,
 "nbformat_minor": 5
}
